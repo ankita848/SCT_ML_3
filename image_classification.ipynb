{
 "cells": [
  {
   "cell_type": "markdown",
   "id": "7bf304d2-0a5c-4b0e-8806-a0be4124b961",
   "metadata": {},
   "source": [
    "# Support Vector Machine(SVM) to classify images of cats and dogs"
   ]
  },
  {
   "cell_type": "code",
   "execution_count": 1,
   "id": "151dd266-940c-4e1d-8f35-75baaf41e177",
   "metadata": {},
   "outputs": [],
   "source": [
    "# Importing libraries\n",
    "import os\n",
    "import numpy as np\n",
    "from tensorflow.keras.preprocessing.image import load_img, img_to_array, ImageDataGenerator\n",
    "from tensorflow.keras.applications.mobilenet_v2 import MobileNetV2, preprocess_input\n",
    "from sklearn.model_selection import train_test_split\n",
    "from sklearn.svm import SVC\n",
    "from sklearn.metrics import accuracy_score, classification_report, confusion_matrix\n",
    "import matplotlib.pyplot as plt\n",
    "import seaborn as sns\n",
    "from tqdm import tqdm"
   ]
  },
  {
   "cell_type": "code",
   "execution_count": 2,
   "id": "16d2ff99-a2c9-49e7-8af2-301c1033e057",
   "metadata": {},
   "outputs": [],
   "source": [
    "# Paths\n",
    "train_dir = \"datasets/train\"  \n",
    "test_dir = \"datasets/test\""
   ]
  },
  {
   "cell_type": "code",
   "execution_count": 4,
   "id": "c7c99803-f77b-4513-822e-dece01c40cd8",
   "metadata": {},
   "outputs": [],
   "source": [
    "# Function for loading the images\n",
    "def load_images(folder, label, img_size=(64,64), limit=None):\n",
    "    data = []\n",
    "    count = 0\n",
    "    for fname in os.listdir(folder):\n",
    "        img_path = os.path.join(folder, fname)\n",
    "        try:\n",
    "            img = load_img(img_path, target_size=img_size)\n",
    "            img_array = img_to_array(img)\n",
    "            data.append((img_array, label))\n",
    "            count += 1\n",
    "            if limit and count >= limit:\n",
    "                break\n",
    "        except:\n",
    "            continue\n",
    "    return data"
   ]
  },
  {
   "cell_type": "markdown",
   "id": "ea74a3f0-4399-44fc-9b62-1f7379d9bc99",
   "metadata": {},
   "source": [
    "# Loading the dataset"
   ]
  },
  {
   "cell_type": "code",
   "execution_count": 6,
   "id": "50b40bb0-8fe0-4682-bcf9-9c6105663316",
   "metadata": {},
   "outputs": [
    {
     "name": "stdout",
     "output_type": "stream",
     "text": [
      "Total samples loaded: 10000\n"
     ]
    }
   ],
   "source": [
    "LIMIT = 5000  # per class, safe for most laptops\n",
    "cats = load_images(os.path.join(train_dir, \"cats\"), 0, limit=LIMIT)\n",
    "dogs = load_images(os.path.join(train_dir, \"dogs\"), 1, limit=LIMIT)\n",
    "data = cats + dogs\n",
    "print(\"Total samples loaded:\", len(data))"
   ]
  },
  {
   "cell_type": "markdown",
   "id": "a7cbe5c2-c022-4d7b-9a00-ddc2edda11cb",
   "metadata": {},
   "source": [
    "# Data Augmentation"
   ]
  },
  {
   "cell_type": "code",
   "execution_count": 7,
   "id": "efe10945-b250-4d61-a04d-eaac1d7a7966",
   "metadata": {},
   "outputs": [
    {
     "name": "stderr",
     "output_type": "stream",
     "text": [
      "Augmenting (1 per image): 100%|███████████████████████████████████████| 10000/10000 [00:30<00:00, 328.59it/s]"
     ]
    },
    {
     "name": "stdout",
     "output_type": "stream",
     "text": [
      "Total samples after augmentation: 20000\n"
     ]
    },
    {
     "name": "stderr",
     "output_type": "stream",
     "text": [
      "\n"
     ]
    }
   ],
   "source": [
    "datagen = ImageDataGenerator(\n",
    "    rotation_range=15,\n",
    "    width_shift_range=0.05,\n",
    "    height_shift_range=0.05,\n",
    "    horizontal_flip=True,\n",
    "    zoom_range=0.05\n",
    ")\n",
    "augmented_data = []\n",
    "for img_array, label in tqdm(data, desc=\"Augmenting (1 per image)\"):\n",
    "    img_array_exp = np.expand_dims(img_array, 0)\n",
    "    for batch in datagen.flow(img_array_exp, batch_size=1):\n",
    "        augmented_img = batch[0]\n",
    "        augmented_data.append((augmented_img, label))\n",
    "        break  \n",
    "data += augmented_data\n",
    "print(\"Total samples after augmentation:\", len(data))"
   ]
  },
  {
   "cell_type": "markdown",
   "id": "09852794-348e-46c2-b560-8d4dbaba0deb",
   "metadata": {},
   "source": [
    "# Extracting Inputs and Features"
   ]
  },
  {
   "cell_type": "code",
   "execution_count": 9,
   "id": "6979162c-096b-4b07-a751-5aa94279087a",
   "metadata": {},
   "outputs": [
    {
     "name": "stdout",
     "output_type": "stream",
     "text": [
      "Images array shape: (20000, 64, 64, 3)\n",
      "Labels array shape: (20000,)\n"
     ]
    }
   ],
   "source": [
    "X_images = np.array([item[0] for item in data])\n",
    "y_labels = np.array([item[1] for item in data])\n",
    "\n",
    "print(\"Images array shape:\", X_images.shape)\n",
    "print(\"Labels array shape:\", y_labels.shape)"
   ]
  },
  {
   "cell_type": "markdown",
   "id": "d28a79b8-4f81-4c30-b5e2-c1e51d967f53",
   "metadata": {},
   "source": [
    "# Feature Extraction "
   ]
  },
  {
   "cell_type": "code",
   "execution_count": 11,
   "id": "eb8ae4e8-2773-4501-9235-86859402fb80",
   "metadata": {},
   "outputs": [
    {
     "name": "stderr",
     "output_type": "stream",
     "text": [
      "C:\\Users\\ANKITA DAS\\AppData\\Local\\Temp\\ipykernel_3892\\1408370007.py:1: UserWarning: `input_shape` is undefined or non-square, or `rows` is not in [96, 128, 160, 192, 224]. Weights for input shape (224, 224) will be loaded as the default.\n",
      "  base_model = MobileNetV2(weights=\"imagenet\", include_top=False, input_shape=(64,64,3), pooling=\"avg\")\n"
     ]
    },
    {
     "name": "stdout",
     "output_type": "stream",
     "text": [
      "\u001b[1m625/625\u001b[0m \u001b[32m━━━━━━━━━━━━━━━━━━━━\u001b[0m\u001b[37m\u001b[0m \u001b[1m132s\u001b[0m 206ms/step\n",
      "Extracted feature shape: (20000, 1280)\n"
     ]
    }
   ],
   "source": [
    "base_model = MobileNetV2(weights=\"imagenet\", include_top=False, input_shape=(64,64,3), pooling=\"avg\")\n",
    "features = base_model.predict(preprocess_input(X_images), batch_size=32, verbose=1)\n",
    "print(\"Extracted feature shape:\", features.shape)"
   ]
  },
  {
   "cell_type": "markdown",
   "id": "b8464cb4-f406-4e51-8d3d-955bb864a648",
   "metadata": {},
   "source": [
    "# Train-Test Split"
   ]
  },
  {
   "cell_type": "code",
   "execution_count": 12,
   "id": "a87579a0-6d55-48f0-8f1a-19a3703c8f3f",
   "metadata": {},
   "outputs": [
    {
     "name": "stdout",
     "output_type": "stream",
     "text": [
      "Training samples: 16000\n",
      "Testing samples: 4000\n"
     ]
    }
   ],
   "source": [
    "X_train, X_test, y_train, y_test, img_train, img_test = train_test_split(\n",
    "    features, y_labels, X_images, test_size=0.2, random_state=42, stratify=y_labels\n",
    ")\n",
    "print(\"Training samples:\", X_train.shape[0])\n",
    "print(\"Testing samples:\", X_test.shape[0])"
   ]
  },
  {
   "cell_type": "code",
   "execution_count": null,
   "id": "998b74ec-ec21-4714-8d88-b8f4cf6bc9af",
   "metadata": {},
   "outputs": [],
   "source": []
  }
 ],
 "metadata": {
  "kernelspec": {
   "display_name": "Python 3 (ipykernel)",
   "language": "python",
   "name": "python3"
  },
  "language_info": {
   "codemirror_mode": {
    "name": "ipython",
    "version": 3
   },
   "file_extension": ".py",
   "mimetype": "text/x-python",
   "name": "python",
   "nbconvert_exporter": "python",
   "pygments_lexer": "ipython3",
   "version": "3.12.4"
  }
 },
 "nbformat": 4,
 "nbformat_minor": 5
}
